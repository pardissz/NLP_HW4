{
  "cells": [
    {
      "cell_type": "markdown",
      "metadata": {
        "colab_type": "text",
        "id": "view-in-github"
      },
      "source": [
        "<a href=\"https://colab.research.google.com/github/AminTaheri23/Deep-Persian-NER/blob/master/Amin_Taheri_DeepNLp_Final_Project.ipynb\" target=\"_parent\"><img src=\"https://colab.research.google.com/assets/colab-badge.svg\" alt=\"Open In Colab\"/></a>"
      ]
    },
    {
      "cell_type": "markdown",
      "metadata": {},
      "source": [
        "Note: Run with python3.10.13"
      ]
    },
    {
      "cell_type": "code",
      "execution_count": 49,
      "metadata": {},
      "outputs": [],
      "source": [
        "import pandas as pd\n",
        "import numpy as np\n",
        "from matplotlib import pyplot as plt \n",
        "from tensorflow.keras.preprocessing.text import Tokenizer\n",
        "from tensorflow.keras.preprocessing.sequence import pad_sequences"
      ]
    },
    {
      "cell_type": "code",
      "execution_count": 50,
      "metadata": {
        "colab": {},
        "colab_type": "code",
        "id": "31skRKIMk3Vj"
      },
      "outputs": [],
      "source": [
        "list_classes = ['B-pers','I-pers', 'B-pro', 'I-pro','B-loc','I-loc','B-fac','I-fac','B-event','I-event','B-org','I-org','O']\n",
        "list_columns = ['text','label']"
      ]
    },
    {
      "cell_type": "markdown",
      "metadata": {
        "colab_type": "text",
        "id": "IolrfKXn9-6x"
      },
      "source": [
        "### Convert labels to one-hot vectors"
      ]
    },
    {
      "cell_type": "code",
      "execution_count": 51,
      "metadata": {
        "colab": {},
        "colab_type": "code",
        "id": "BnA8D-t0zXzv"
      },
      "outputs": [],
      "source": [
        "def label_to_one_hot(value):\n",
        "  list_classes = ['B-pers','I-pers', 'B-pro', 'I-pro','B-loc','I-loc','B-fac','I-fac','B-event','I-event','B-org','I-org','O']\n",
        "  if value == list_classes[0]:\n",
        "    return [1, 0, 0, 0, 0, 0, 0, 0, 0, 0, 0, 0, 0]\n",
        "  if value == list_classes[1]:\n",
        "    return [0, 1, 0, 0, 0, 0, 0, 0, 0, 0, 0, 0, 0]\n",
        "  if value == list_classes[2]:\n",
        "    return [0, 0, 1, 0, 0, 0, 0, 0, 0, 0, 0, 0, 0]\n",
        "  if value == list_classes[3]:\n",
        "    return [0, 0, 0, 1, 0, 0, 0, 0, 0, 0, 0, 0, 0]\n",
        "  if value == list_classes[4]:\n",
        "    return [0, 0, 0, 0, 1, 0, 0, 0, 0, 0, 0, 0, 0]\n",
        "  if value == list_classes[5]:\n",
        "    return [0, 0, 0, 0, 0, 1, 0, 0, 0, 0, 0, 0, 0]\n",
        "  if value == list_classes[6]:\n",
        "    return [0, 0, 0, 0, 0, 0, 1, 0, 0, 0, 0, 0, 0]\n",
        "  if value == list_classes[7]:\n",
        "    return [0, 0, 0, 0, 0, 0, 0, 1, 0, 0, 0, 0, 0]\n",
        "  if value == list_classes[8]:\n",
        "    return [0, 0, 0, 0, 0, 0, 0, 0, 1, 0, 0, 0, 0]\n",
        "  if value == list_classes[9]:\n",
        "    return [0, 0, 0, 0, 0, 0, 0, 0, 0, 1, 0, 0, 0]\n",
        "  if value == list_classes[10]:\n",
        "    return [0, 0, 0, 0, 0, 0, 0, 0, 0, 0, 1, 0, 0]\n",
        "  if value == list_classes[11]:\n",
        "    return [0, 0, 0, 0, 0, 0, 0, 0, 0, 0, 0, 1, 0]\n",
        "  if value == list_classes[12]:\n",
        "    return [0, 0, 0, 0, 0, 0, 0, 0, 0, 0, 0, 0, 1]\n"
      ]
    },
    {
      "cell_type": "markdown",
      "metadata": {
        "colab_type": "text",
        "id": "BzXILbT1-Ytv"
      },
      "source": [
        "### Read  train data file"
      ]
    },
    {
      "cell_type": "code",
      "execution_count": 52,
      "metadata": {
        "colab": {},
        "colab_type": "code",
        "id": "LLkPOnGVKqH4"
      },
      "outputs": [],
      "source": [
        "def read_data(filename):\n",
        "    df= pd.DataFrame(columns=list_columns)\n",
        "    \n",
        "    f = open(filename)\n",
        "    sentences = []\n",
        "    sentence = []\n",
        "    for line in f:\n",
        "        if len(line) == 0 or line.startswith('-DOCSTART') or line[0] == \"\\n\":\n",
        "            if len(sentence) > 0:\n",
        "                sentences.append(sentence)\n",
        "                sentence = []\n",
        "            continue\n",
        "        splits = line.split(' ')        \n",
        "        sentence.append([splits[0], splits[-1]])\n",
        "\n",
        "    if len(sentence) > 0:\n",
        "        sentences.append(sentence)\n",
        "        sentence = []\n",
        "        \n",
        "    for sentence in sentences:\n",
        "      words=[]\n",
        "      values=[]\n",
        "      for item in sentence:\n",
        "        words.append(item[0])\n",
        "        values.append(item[1].replace('\\n',''))\n",
        "      _list=[]\n",
        "      _list.append(' '.join(words))\n",
        "      _list.append(' '.join(values))\n",
        "      df2 = pd.DataFrame([_list], columns=list_columns)\n",
        "      df = pd.concat([df, pd.DataFrame([_list], columns=list_columns)], ignore_index=True)\n",
        "    return df"
      ]
    },
    {
      "cell_type": "code",
      "execution_count": 159,
      "metadata": {
        "colab": {},
        "colab_type": "code",
        "id": "jJZz2SF_9psC"
      },
      "outputs": [],
      "source": [
        "train = read_data('../Part 2 - Token Classification/arman/train.txt')\n",
        "validation = read_data('../Part 2 - Token Classification/arman/dev.txt')\n",
        "\n",
        "train_val = pd.concat([train, validation], ignore_index=True)"
      ]
    },
    {
      "cell_type": "code",
      "execution_count": 160,
      "metadata": {
        "colab": {
          "base_uri": "https://localhost:8080/",
          "height": 204
        },
        "colab_type": "code",
        "id": "CYn0yBCGQLUt",
        "outputId": "35682d7a-2eb2-4822-8ba5-71d6094b0cc4"
      },
      "outputs": [
        {
          "data": {
            "text/html": [
              "<div>\n",
              "<style scoped>\n",
              "    .dataframe tbody tr th:only-of-type {\n",
              "        vertical-align: middle;\n",
              "    }\n",
              "\n",
              "    .dataframe tbody tr th {\n",
              "        vertical-align: top;\n",
              "    }\n",
              "\n",
              "    .dataframe thead th {\n",
              "        text-align: right;\n",
              "    }\n",
              "</style>\n",
              "<table border=\"1\" class=\"dataframe\">\n",
              "  <thead>\n",
              "    <tr style=\"text-align: right;\">\n",
              "      <th></th>\n",
              "      <th>text</th>\n",
              "      <th>label</th>\n",
              "    </tr>\n",
              "  </thead>\n",
              "  <tbody>\n",
              "    <tr>\n",
              "      <th>0</th>\n",
              "      <td>به عنوان مثال وقتی نشریات مدافع اصول و ارزشها ...</td>\n",
              "      <td>O O O O O O O O O O O O O O O O O O O O O O O ...</td>\n",
              "    </tr>\n",
              "    <tr>\n",
              "      <th>1</th>\n",
              "      <td>دکتر اصغری دبیر چهارمین همایش انجمن زمین‌شناسی...</td>\n",
              "      <td>O B-pers O B-event I-event I-event I-event I-e...</td>\n",
              "    </tr>\n",
              "    <tr>\n",
              "      <th>2</th>\n",
              "      <td>دکتر اکبر میرعرب در همایش بررسی و پیشگیری از ب...</td>\n",
              "      <td>O B-pers I-pers O B-event I-event I-event I-ev...</td>\n",
              "    </tr>\n",
              "    <tr>\n",
              "      <th>3</th>\n",
              "      <td>اردبیل ـ استاندار اردبیل گفت : به مناسبت هفته ...</td>\n",
              "      <td>B-loc O O B-loc O O O O B-event I-event O O O ...</td>\n",
              "    </tr>\n",
              "    <tr>\n",
              "      <th>4</th>\n",
              "      <td>حمید طاهایی افزود : برای اجرای این طرحها 0 میل...</td>\n",
              "      <td>B-pers I-pers O O O O O O O O O O O O O O O O O</td>\n",
              "    </tr>\n",
              "  </tbody>\n",
              "</table>\n",
              "</div>"
            ],
            "text/plain": [
              "                                                text  \\\n",
              "0  به عنوان مثال وقتی نشریات مدافع اصول و ارزشها ...   \n",
              "1  دکتر اصغری دبیر چهارمین همایش انجمن زمین‌شناسی...   \n",
              "2  دکتر اکبر میرعرب در همایش بررسی و پیشگیری از ب...   \n",
              "3  اردبیل ـ استاندار اردبیل گفت : به مناسبت هفته ...   \n",
              "4  حمید طاهایی افزود : برای اجرای این طرحها 0 میل...   \n",
              "\n",
              "                                               label  \n",
              "0  O O O O O O O O O O O O O O O O O O O O O O O ...  \n",
              "1  O B-pers O B-event I-event I-event I-event I-e...  \n",
              "2  O B-pers I-pers O B-event I-event I-event I-ev...  \n",
              "3  B-loc O O B-loc O O O O B-event I-event O O O ...  \n",
              "4    B-pers I-pers O O O O O O O O O O O O O O O O O  "
            ]
          },
          "execution_count": 160,
          "metadata": {},
          "output_type": "execute_result"
        }
      ],
      "source": [
        "train_val.head()"
      ]
    },
    {
      "cell_type": "markdown",
      "metadata": {
        "colab_type": "text",
        "id": "O_sXTWZ08eLq"
      },
      "source": [
        "## Split data, into X and Y sets"
      ]
    },
    {
      "cell_type": "code",
      "execution_count": 161,
      "metadata": {
        "colab": {},
        "colab_type": "code",
        "id": "Yy3uBiraHThy"
      },
      "outputs": [],
      "source": [
        "y_train = train_val['label']\n",
        "sentences_train = train_val['text']"
      ]
    },
    {
      "cell_type": "markdown",
      "metadata": {
        "colab_type": "text",
        "id": "4ElRDEKAGXvH"
      },
      "source": [
        "### Tokenization "
      ]
    },
    {
      "cell_type": "code",
      "execution_count": 163,
      "metadata": {
        "colab": {},
        "colab_type": "code",
        "id": "h37T1o64j35c"
      },
      "outputs": [],
      "source": [
        "max_features = 250015\n",
        "tokenizer = Tokenizer(num_words=max_features)\n",
        "tokenizer.fit_on_texts(list(sentences_train))\n",
        "list_tokenized_train = tokenizer.texts_to_sequences(sentences_train)\n",
        "\n",
        "y = [[label_to_one_hot(c) for c in ey.split(' ')] for ey in y_train]"
      ]
    },
    {
      "cell_type": "markdown",
      "metadata": {
        "colab_type": "text",
        "id": "i4_7nkMraFMA"
      },
      "source": [
        "## How do you know what is the best \"maxlen\" to set?\n",
        "One of the ways to go about it is to see the distribution of the number of words in sentences."
      ]
    },
    {
      "cell_type": "code",
      "execution_count": 164,
      "metadata": {
        "colab": {
          "base_uri": "https://localhost:8080/",
          "height": 265
        },
        "colab_type": "code",
        "id": "P_1G2hacZTUQ",
        "outputId": "27f61767-3a0d-49f2-ad06-5c1f1f714a54"
      },
      "outputs": [
        {
          "data": {
            "image/png": "[encoded data removed]",
            "text/plain": [
              "<Figure size 640x480 with 1 Axes>"
            ]
          },
          "metadata": {},
          "output_type": "display_data"
        }
      ],
      "source": [
        "totalNumWords = [len(one_comment) for one_comment in list_tokenized_train]\n",
        "plt.hist(totalNumWords,bins = np.arange(0,120,5))\n",
        "plt.show()\n",
        "# 120 is a good maxlen"
      ]
    },
    {
      "cell_type": "code",
      "execution_count": 165,
      "metadata": {
        "colab": {
          "base_uri": "https://localhost:8080/",
          "height": 51
        },
        "colab_type": "code",
        "id": "_THR7dSZj8-n",
        "outputId": "1d1d3804-091c-4054-9d20-08ab742804de"
      },
      "outputs": [],
      "source": [
        "maxlen = 60\n",
        "X_t = pad_sequences(list_tokenized_train, maxlen=maxlen)\n",
        "y_t = pad_sequences(y, maxlen=maxlen)"
      ]
    },
    {
      "cell_type": "markdown",
      "metadata": {
        "colab_type": "text",
        "id": "vjPRoHPuJBGS"
      },
      "source": [
        "##  load our embeddings model into a dictionary "
      ]
    },
    {
      "cell_type": "code",
      "execution_count": 166,
      "metadata": {
        "colab": {},
        "colab_type": "code",
        "id": "nfhzUmUc7mqH"
      },
      "outputs": [
        {
          "name": "stdout",
          "output_type": "stream",
          "text": [
            "total embedded: 13048 common words\n"
          ]
        }
      ],
      "source": [
        "def load_word2vec_embeddings(file_path):\n",
        "    embeddings_index = {}\n",
        "    \n",
        "    with open(file_path, 'r', encoding='utf-8') as f:\n",
        "        for line in f:\n",
        "            try:\n",
        "                values = line.split()\n",
        "\n",
        "                if len(values)==301:\n",
        "                    word = values[0]    \n",
        "                    coefs = np.asarray(values[1:], dtype='float32')\n",
        "                    embeddings_index[word] = coefs\n",
        "                elif len(values)==302:\n",
        "        #print(len(value))\n",
        "                    word = values[0]+'\\u200c'+values[1]   \n",
        "                    coefs = np.asarray(values[2:], dtype='float32')\n",
        "                    embeddings_index[word] = coefs\n",
        "                elif len(values)==303:\n",
        "                    word = values[0]+'\\u200c'+values[1]+'\\u200c'+values[2]  \n",
        "                    coefs = np.asarray(values[3:], dtype='float32')\n",
        "                    embeddings_index[word] = coefs\n",
        "            except Exception as inst:\n",
        "                    print(inst)\n",
        "    \n",
        "    all_embs = np.stack(list(embeddings_index.values()))\n",
        "    emb_mean,emb_std = all_embs.mean(), all_embs.std()\n",
        "\n",
        "    nb_words = len(tokenizer.word_index) + 1\n",
        "    embedding_matrix = np.random.normal(emb_mean, emb_std, (nb_words, 300))\n",
        "    embeddedCount = 0\n",
        "    for word, i in tokenizer.word_index.items():\n",
        "            i-=1\n",
        "            #then we see if this word is in glove's dictionary, if yes, get the corresponding weights\n",
        "            embedding_vector = embeddings_index.get(word)\n",
        "            #and store inside the embedding matrix that we will train later on.\n",
        "            if embedding_vector is not None: \n",
        "                embedding_matrix[i] = embedding_vector\n",
        "                embeddedCount+=1\n",
        "    print('total embedded:',embeddedCount,'common words')\n",
        "        \n",
        "    del(embeddings_index)\n",
        "    return embedding_matrix\n",
        "\n",
        "file_path = '../PersianNER/wor2vec_skipgram300d.txt'\n",
        "embeddings_matrix = load_word2vec_embeddings(file_path)"
      ]
    },
    {
      "cell_type": "markdown",
      "metadata": {
        "colab_type": "text",
        "id": "wlt2veDeh6ms"
      },
      "source": [
        "### ‌Bidirectional-LSTM + F1"
      ]
    },
    {
      "cell_type": "code",
      "execution_count": 170,
      "metadata": {
        "colab": {},
        "colab_type": "code",
        "id": "cXoElZfTUNHV"
      },
      "outputs": [],
      "source": [
        "from tensorflow import keras\n",
        "import tensorflow.keras.backend as K\n",
        "\n",
        "def get_f1(y_true, y_pred): #taken from old keras source code\n",
        "    true_positives = K.sum(K.round(K.clip(y_true * y_pred, 0, 1)))\n",
        "    possible_positives = K.sum(K.round(K.clip(y_true, 0, 1)))\n",
        "    predicted_positives = K.sum(K.round(K.clip(y_pred, 0, 1)))\n",
        "    precision = true_positives / (predicted_positives + K.epsilon())\n",
        "    recall = true_positives / (possible_positives + K.epsilon())\n",
        "    f1_val = 2*(precision*recall)/(precision+recall+K.epsilon())\n",
        "    return f1_val"
      ]
    },
    {
      "cell_type": "code",
      "execution_count": 171,
      "metadata": {
        "colab": {
          "base_uri": "https://localhost:8080/",
          "height": 476
        },
        "colab_type": "code",
        "id": "hMISVZQ8hDam",
        "outputId": "9100f9af-e341-4f17-d16d-c44d81c7dbe1"
      },
      "outputs": [
        {
          "name": "stdout",
          "output_type": "stream",
          "text": [
            "Model: \"model_13\"\n",
            "__________________________________________________________________________________________________\n",
            " Layer (type)                Output Shape                 Param #   Connected to                  \n",
            "==================================================================================================\n",
            " input_17 (InputLayer)       [(None, 60)]                 0         []                            \n",
            "                                                                                                  \n",
            " embedding_25 (Embedding)    (None, 60, 300)              5462700   ['input_17[0][0]']            \n",
            "                                                                                                  \n",
            " bidirectional_44 (Bidirect  (None, 60, 300)              541200    ['embedding_25[0][0]']        \n",
            " ional)                                                                                           \n",
            "                                                                                                  \n",
            " bidirectional_45 (Bidirect  (None, 60, 300)              541200    ['bidirectional_44[0][0]']    \n",
            " ional)                                                                                           \n",
            "                                                                                                  \n",
            " add_13 (Add)                (None, 60, 300)              0         ['bidirectional_44[0][0]',    \n",
            "                                                                     'bidirectional_45[0][0]']    \n",
            "                                                                                                  \n",
            " dropout_26 (Dropout)        (None, 60, 300)              0         ['add_13[0][0]']              \n",
            "                                                                                                  \n",
            " dense_32 (Dense)            (None, 60, 300)              90300     ['dropout_26[0][0]']          \n",
            "                                                                                                  \n",
            " dropout_27 (Dropout)        (None, 60, 300)              0         ['dense_32[0][0]']            \n",
            "                                                                                                  \n",
            " dense_33 (Dense)            (None, 60, 13)               3913      ['dropout_27[0][0]']          \n",
            "                                                                                                  \n",
            "==================================================================================================\n",
            "Total params: 6639313 (25.33 MB)\n",
            "Trainable params: 1176613 (4.49 MB)\n",
            "Non-trainable params: 5462700 (20.84 MB)\n",
            "__________________________________________________________________________________________________\n"
          ]
        }
      ],
      "source": [
        "import tensorflow as tf\n",
        "from tensorflow.keras.layers import Input, Embedding, LSTM, Bidirectional, Dropout, Dense\n",
        "from tensorflow.keras.models import Model\n",
        "\n",
        "\n",
        "inp = Input(shape=(maxlen, ))\n",
        "emb = Embedding(len(tokenizer.word_index)+1, embeddings_matrix.shape[1],weights=[embeddings_matrix],trainable=False)(inp)\n",
        "x = Bidirectional(LSTM(150, return_sequences=True,name='lstm_layer',dropout=0.1,recurrent_dropout=0.1))(emb)\n",
        "x_rnn = Bidirectional(LSTM(150, return_sequences=True,name='lstm_layer',dropout=0.1,recurrent_dropout=0.1))(x)\n",
        "x = tf.keras.layers.Add()([x, x_rnn]) \n",
        "#x = GlobalMaxPool1D()(x)\n",
        "x = Dropout(0.1)(x)\n",
        "x = Dense(300, activation=\"relu\")(x)\n",
        "x = Dropout(0.1)(x)\n",
        "x = Dense(13, activation=\"softmax\")(x)\n",
        "model = Model(inputs=inp, outputs=x)\n",
        "model.compile(loss='binary_crossentropy',\n",
        "                  optimizer='adam',\n",
        "                  metrics=['accuracy', get_f1])\n",
        "model.summary()"
      ]
    },
    {
      "cell_type": "code",
      "execution_count": 172,
      "metadata": {
        "colab": {
          "base_uri": "https://localhost:8080/",
          "height": 204
        },
        "colab_type": "code",
        "id": "AuJLKiPi7wpV",
        "outputId": "e863704f-7af4-40c1-f2ef-2040d241af46"
      },
      "outputs": [
        {
          "name": "stdout",
          "output_type": "stream",
          "text": [
            "Epoch 1/5\n",
            "25/25 [==============================] - 99s 4s/step - loss: 0.1408 - accuracy: 0.4476 - get_f1: 0.5203 - val_loss: 0.0396 - val_accuracy: 0.4652 - val_get_f1: 0.6567\n",
            "Epoch 2/5\n",
            "25/25 [==============================] - 89s 3s/step - loss: 0.0391 - accuracy: 0.5436 - get_f1: 0.8202 - val_loss: 0.0354 - val_accuracy: 0.4795 - val_get_f1: 0.8791\n",
            "Epoch 3/5\n",
            "25/25 [==============================] - 90s 4s/step - loss: 0.0368 - accuracy: 0.5777 - get_f1: 0.8531 - val_loss: 0.0348 - val_accuracy: 0.8703 - val_get_f1: 0.8930\n",
            "Epoch 4/5\n",
            "25/25 [==============================] - 86s 3s/step - loss: 0.0363 - accuracy: 0.6438 - get_f1: 0.8503 - val_loss: 0.0349 - val_accuracy: 0.8917 - val_get_f1: 0.8787\n",
            "Epoch 5/5\n",
            "25/25 [==============================] - 84s 3s/step - loss: 0.0360 - accuracy: 0.6916 - get_f1: 0.8358 - val_loss: 0.0346 - val_accuracy: 0.9207 - val_get_f1: 0.9046\n"
          ]
        }
      ],
      "source": [
        "batch_size = 512\n",
        "epochs = 5\n",
        "hist = model.fit(X_t,y_t, batch_size=batch_size, epochs=epochs, validation_split=0.2)#class_weight={'O':0.04, 'B-pers':0.20}) "
      ]
    },
    {
      "cell_type": "markdown",
      "metadata": {
        "colab_type": "text",
        "id": "9ruMXQpw54KC"
      },
      "source": [
        "## training/validation loss plots"
      ]
    },
    {
      "cell_type": "code",
      "execution_count": 173,
      "metadata": {
        "colab": {
          "base_uri": "https://localhost:8080/",
          "height": 581
        },
        "colab_type": "code",
        "id": "zdsrejUBvYzz",
        "outputId": "903bff55-9d4c-450c-fbdd-1c2a4476da10"
      },
      "outputs": [
        {
          "data": {
            "image/png": "[encoded data removed]",
            "text/plain": [
              "<Figure size 640x480 with 1 Axes>"
            ]
          },
          "metadata": {},
          "output_type": "display_data"
        },
        {
          "data": {
            "image/png": "[encoded data removed]",
            "text/plain": [
              "<Figure size 640x480 with 1 Axes>"
            ]
          },
          "metadata": {},
          "output_type": "display_data"
        }
      ],
      "source": [
        "# Visualize the Model\n",
        "plt.style.use(\"ggplot\")\n",
        "# Plot training & validation accuracy values\n",
        "plt.plot(hist.history['accuracy'])\n",
        "plt.plot(hist.history['val_accuracy'])\n",
        "plt.title('Model accuracy')\n",
        "plt.ylabel('Accuracy')\n",
        "plt.xlabel('Epoch')\n",
        "plt.legend(['Train', 'Test'], loc='upper left')\n",
        "plt.show()\n",
        "\n",
        "# Plot training & validation loss values\n",
        "plt.plot(hist.history['loss'])\n",
        "plt.plot(hist.history['val_loss'])\n",
        "plt.title('Model loss')\n",
        "plt.ylabel('Loss')\n",
        "plt.xlabel('Epoch')\n",
        "plt.legend(['Train', 'Test'], loc='upper left')\n",
        "plt.show()"
      ]
    }
  ],
  "metadata": {
    "colab": {
      "collapsed_sections": [
        "x8WPqYucJ9EO",
        "0id0qtLSig8W",
        "XpQuZA9omYNJ",
        "GTSMvtfpoeyr",
        "ZEY_HWfKnBDY",
        "PfeLfem-hy_-",
        "ePTZcVo6uC6f"
      ],
      "include_colab_link": true,
      "machine_shape": "hm",
      "name": "Amin_Taheri_DeepNLp_Final_Project  (1).ipynb",
      "provenance": []
    },
    "kernelspec": {
      "display_name": "Python 3",
      "language": "python",
      "name": "python3"
    },
    "language_info": {
      "codemirror_mode": {
        "name": "ipython",
        "version": 3
      },
      "file_extension": ".py",
      "mimetype": "text/x-python",
      "name": "python",
      "nbconvert_exporter": "python",
      "pygments_lexer": "ipython3",
      "version": "3.10.13"
    }
  },
  "nbformat": 4,
  "nbformat_minor": 0
}
